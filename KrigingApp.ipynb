{
  "nbformat": 4,
  "nbformat_minor": 0,
  "metadata": {
    "colab": {
      "name": "KrigingApp.ipynb",
      "provenance": [],
      "collapsed_sections": [],
      "authorship_tag": "ABX9TyOgb9I5KnmtKJ+rHdDTm4yw",
      "include_colab_link": true
    },
    "kernelspec": {
      "name": "python3",
      "display_name": "Python 3"
    },
    "language_info": {
      "name": "python"
    }
  },
  "cells": [
    {
      "cell_type": "markdown",
      "metadata": {
        "id": "view-in-github",
        "colab_type": "text"
      },
      "source": [
        "<a href=\"https://colab.research.google.com/github/JuanCReyes1/GeospatialDataAnalysis/blob/main/KrigingApp.ipynb\" target=\"_parent\"><img src=\"https://colab.research.google.com/assets/colab-badge.svg\" alt=\"Open In Colab\"/></a>"
      ]
    },
    {
      "cell_type": "code",
      "source": [
        "pip install geopandas"
      ],
      "metadata": {
        "id": "x5dUMZAiOkUL",
        "colab": {
          "base_uri": "https://localhost:8080/"
        },
        "outputId": "19e506e9-6ea4-4f4c-a5eb-d257bb2870fd"
      },
      "execution_count": null,
      "outputs": [
        {
          "output_type": "stream",
          "name": "stdout",
          "text": [
            "Collecting geopandas\n",
            "  Downloading geopandas-0.10.2-py2.py3-none-any.whl (1.0 MB)\n",
            "\u001b[?25l\r\u001b[K     |▎                               | 10 kB 19.2 MB/s eta 0:00:01\r\u001b[K     |▋                               | 20 kB 23.1 MB/s eta 0:00:01\r\u001b[K     |█                               | 30 kB 27.4 MB/s eta 0:00:01\r\u001b[K     |█▎                              | 40 kB 22.3 MB/s eta 0:00:01\r\u001b[K     |█▋                              | 51 kB 20.9 MB/s eta 0:00:01\r\u001b[K     |██                              | 61 kB 17.2 MB/s eta 0:00:01\r\u001b[K     |██▎                             | 71 kB 14.4 MB/s eta 0:00:01\r\u001b[K     |██▌                             | 81 kB 15.7 MB/s eta 0:00:01\r\u001b[K     |██▉                             | 92 kB 15.7 MB/s eta 0:00:01\r\u001b[K     |███▏                            | 102 kB 14.9 MB/s eta 0:00:01\r\u001b[K     |███▌                            | 112 kB 14.9 MB/s eta 0:00:01\r\u001b[K     |███▉                            | 122 kB 14.9 MB/s eta 0:00:01\r\u001b[K     |████▏                           | 133 kB 14.9 MB/s eta 0:00:01\r\u001b[K     |████▌                           | 143 kB 14.9 MB/s eta 0:00:01\r\u001b[K     |████▊                           | 153 kB 14.9 MB/s eta 0:00:01\r\u001b[K     |█████                           | 163 kB 14.9 MB/s eta 0:00:01\r\u001b[K     |█████▍                          | 174 kB 14.9 MB/s eta 0:00:01\r\u001b[K     |█████▊                          | 184 kB 14.9 MB/s eta 0:00:01\r\u001b[K     |██████                          | 194 kB 14.9 MB/s eta 0:00:01\r\u001b[K     |██████▍                         | 204 kB 14.9 MB/s eta 0:00:01\r\u001b[K     |██████▊                         | 215 kB 14.9 MB/s eta 0:00:01\r\u001b[K     |███████                         | 225 kB 14.9 MB/s eta 0:00:01\r\u001b[K     |███████▎                        | 235 kB 14.9 MB/s eta 0:00:01\r\u001b[K     |███████▋                        | 245 kB 14.9 MB/s eta 0:00:01\r\u001b[K     |████████                        | 256 kB 14.9 MB/s eta 0:00:01\r\u001b[K     |████████▎                       | 266 kB 14.9 MB/s eta 0:00:01\r\u001b[K     |████████▋                       | 276 kB 14.9 MB/s eta 0:00:01\r\u001b[K     |█████████                       | 286 kB 14.9 MB/s eta 0:00:01\r\u001b[K     |█████████▏                      | 296 kB 14.9 MB/s eta 0:00:01\r\u001b[K     |█████████▌                      | 307 kB 14.9 MB/s eta 0:00:01\r\u001b[K     |█████████▉                      | 317 kB 14.9 MB/s eta 0:00:01\r\u001b[K     |██████████▏                     | 327 kB 14.9 MB/s eta 0:00:01\r\u001b[K     |██████████▌                     | 337 kB 14.9 MB/s eta 0:00:01\r\u001b[K     |██████████▉                     | 348 kB 14.9 MB/s eta 0:00:01\r\u001b[K     |███████████▏                    | 358 kB 14.9 MB/s eta 0:00:01\r\u001b[K     |███████████▍                    | 368 kB 14.9 MB/s eta 0:00:01\r\u001b[K     |███████████▊                    | 378 kB 14.9 MB/s eta 0:00:01\r\u001b[K     |████████████                    | 389 kB 14.9 MB/s eta 0:00:01\r\u001b[K     |████████████▍                   | 399 kB 14.9 MB/s eta 0:00:01\r\u001b[K     |████████████▊                   | 409 kB 14.9 MB/s eta 0:00:01\r\u001b[K     |█████████████                   | 419 kB 14.9 MB/s eta 0:00:01\r\u001b[K     |█████████████▍                  | 430 kB 14.9 MB/s eta 0:00:01\r\u001b[K     |█████████████▋                  | 440 kB 14.9 MB/s eta 0:00:01\r\u001b[K     |██████████████                  | 450 kB 14.9 MB/s eta 0:00:01\r\u001b[K     |██████████████▎                 | 460 kB 14.9 MB/s eta 0:00:01\r\u001b[K     |██████████████▋                 | 471 kB 14.9 MB/s eta 0:00:01\r\u001b[K     |███████████████                 | 481 kB 14.9 MB/s eta 0:00:01\r\u001b[K     |███████████████▎                | 491 kB 14.9 MB/s eta 0:00:01\r\u001b[K     |███████████████▋                | 501 kB 14.9 MB/s eta 0:00:01\r\u001b[K     |███████████████▉                | 512 kB 14.9 MB/s eta 0:00:01\r\u001b[K     |████████████████▏               | 522 kB 14.9 MB/s eta 0:00:01\r\u001b[K     |████████████████▌               | 532 kB 14.9 MB/s eta 0:00:01\r\u001b[K     |████████████████▉               | 542 kB 14.9 MB/s eta 0:00:01\r\u001b[K     |█████████████████▏              | 552 kB 14.9 MB/s eta 0:00:01\r\u001b[K     |█████████████████▌              | 563 kB 14.9 MB/s eta 0:00:01\r\u001b[K     |█████████████████▉              | 573 kB 14.9 MB/s eta 0:00:01\r\u001b[K     |██████████████████              | 583 kB 14.9 MB/s eta 0:00:01\r\u001b[K     |██████████████████▍             | 593 kB 14.9 MB/s eta 0:00:01\r\u001b[K     |██████████████████▊             | 604 kB 14.9 MB/s eta 0:00:01\r\u001b[K     |███████████████████             | 614 kB 14.9 MB/s eta 0:00:01\r\u001b[K     |███████████████████▍            | 624 kB 14.9 MB/s eta 0:00:01\r\u001b[K     |███████████████████▊            | 634 kB 14.9 MB/s eta 0:00:01\r\u001b[K     |████████████████████            | 645 kB 14.9 MB/s eta 0:00:01\r\u001b[K     |████████████████████▎           | 655 kB 14.9 MB/s eta 0:00:01\r\u001b[K     |████████████████████▋           | 665 kB 14.9 MB/s eta 0:00:01\r\u001b[K     |█████████████████████           | 675 kB 14.9 MB/s eta 0:00:01\r\u001b[K     |█████████████████████▎          | 686 kB 14.9 MB/s eta 0:00:01\r\u001b[K     |█████████████████████▋          | 696 kB 14.9 MB/s eta 0:00:01\r\u001b[K     |██████████████████████          | 706 kB 14.9 MB/s eta 0:00:01\r\u001b[K     |██████████████████████▎         | 716 kB 14.9 MB/s eta 0:00:01\r\u001b[K     |██████████████████████▋         | 727 kB 14.9 MB/s eta 0:00:01\r\u001b[K     |██████████████████████▉         | 737 kB 14.9 MB/s eta 0:00:01\r\u001b[K     |███████████████████████▏        | 747 kB 14.9 MB/s eta 0:00:01\r\u001b[K     |███████████████████████▌        | 757 kB 14.9 MB/s eta 0:00:01\r\u001b[K     |███████████████████████▉        | 768 kB 14.9 MB/s eta 0:00:01\r\u001b[K     |████████████████████████▏       | 778 kB 14.9 MB/s eta 0:00:01\r\u001b[K     |████████████████████████▌       | 788 kB 14.9 MB/s eta 0:00:01\r\u001b[K     |████████████████████████▉       | 798 kB 14.9 MB/s eta 0:00:01\r\u001b[K     |█████████████████████████       | 808 kB 14.9 MB/s eta 0:00:01\r\u001b[K     |█████████████████████████▍      | 819 kB 14.9 MB/s eta 0:00:01\r\u001b[K     |█████████████████████████▊      | 829 kB 14.9 MB/s eta 0:00:01\r\u001b[K     |██████████████████████████      | 839 kB 14.9 MB/s eta 0:00:01\r\u001b[K     |██████████████████████████▍     | 849 kB 14.9 MB/s eta 0:00:01\r\u001b[K     |██████████████████████████▊     | 860 kB 14.9 MB/s eta 0:00:01\r\u001b[K     |███████████████████████████     | 870 kB 14.9 MB/s eta 0:00:01\r\u001b[K     |███████████████████████████▎    | 880 kB 14.9 MB/s eta 0:00:01\r\u001b[K     |███████████████████████████▋    | 890 kB 14.9 MB/s eta 0:00:01\r\u001b[K     |████████████████████████████    | 901 kB 14.9 MB/s eta 0:00:01\r\u001b[K     |████████████████████████████▎   | 911 kB 14.9 MB/s eta 0:00:01\r\u001b[K     |████████████████████████████▋   | 921 kB 14.9 MB/s eta 0:00:01\r\u001b[K     |█████████████████████████████   | 931 kB 14.9 MB/s eta 0:00:01\r\u001b[K     |█████████████████████████████▎  | 942 kB 14.9 MB/s eta 0:00:01\r\u001b[K     |█████████████████████████████▌  | 952 kB 14.9 MB/s eta 0:00:01\r\u001b[K     |█████████████████████████████▉  | 962 kB 14.9 MB/s eta 0:00:01\r\u001b[K     |██████████████████████████████▏ | 972 kB 14.9 MB/s eta 0:00:01\r\u001b[K     |██████████████████████████████▌ | 983 kB 14.9 MB/s eta 0:00:01\r\u001b[K     |██████████████████████████████▉ | 993 kB 14.9 MB/s eta 0:00:01\r\u001b[K     |███████████████████████████████▏| 1.0 MB 14.9 MB/s eta 0:00:01\r\u001b[K     |███████████████████████████████▌| 1.0 MB 14.9 MB/s eta 0:00:01\r\u001b[K     |███████████████████████████████▊| 1.0 MB 14.9 MB/s eta 0:00:01\r\u001b[K     |████████████████████████████████| 1.0 MB 14.9 MB/s \n",
            "\u001b[?25hRequirement already satisfied: pandas>=0.25.0 in /usr/local/lib/python3.7/dist-packages (from geopandas) (1.3.5)\n",
            "Collecting fiona>=1.8\n",
            "  Downloading Fiona-1.8.20-cp37-cp37m-manylinux1_x86_64.whl (15.4 MB)\n",
            "\u001b[K     |████████████████████████████████| 15.4 MB 39.3 MB/s \n",
            "\u001b[?25hRequirement already satisfied: shapely>=1.6 in /usr/local/lib/python3.7/dist-packages (from geopandas) (1.8.0)\n",
            "Collecting pyproj>=2.2.0\n",
            "  Downloading pyproj-3.2.1-cp37-cp37m-manylinux2010_x86_64.whl (6.3 MB)\n",
            "\u001b[K     |████████████████████████████████| 6.3 MB 45.4 MB/s \n",
            "\u001b[?25hRequirement already satisfied: click>=4.0 in /usr/local/lib/python3.7/dist-packages (from fiona>=1.8->geopandas) (7.1.2)\n",
            "Requirement already satisfied: attrs>=17 in /usr/local/lib/python3.7/dist-packages (from fiona>=1.8->geopandas) (21.4.0)\n",
            "Requirement already satisfied: six>=1.7 in /usr/local/lib/python3.7/dist-packages (from fiona>=1.8->geopandas) (1.15.0)\n",
            "Collecting click-plugins>=1.0\n",
            "  Downloading click_plugins-1.1.1-py2.py3-none-any.whl (7.5 kB)\n",
            "Requirement already satisfied: certifi in /usr/local/lib/python3.7/dist-packages (from fiona>=1.8->geopandas) (2021.10.8)\n",
            "Requirement already satisfied: setuptools in /usr/local/lib/python3.7/dist-packages (from fiona>=1.8->geopandas) (57.4.0)\n",
            "Collecting munch\n",
            "  Downloading munch-2.5.0-py2.py3-none-any.whl (10 kB)\n",
            "Collecting cligj>=0.5\n",
            "  Downloading cligj-0.7.2-py3-none-any.whl (7.1 kB)\n",
            "Requirement already satisfied: numpy>=1.17.3 in /usr/local/lib/python3.7/dist-packages (from pandas>=0.25.0->geopandas) (1.19.5)\n",
            "Requirement already satisfied: python-dateutil>=2.7.3 in /usr/local/lib/python3.7/dist-packages (from pandas>=0.25.0->geopandas) (2.8.2)\n",
            "Requirement already satisfied: pytz>=2017.3 in /usr/local/lib/python3.7/dist-packages (from pandas>=0.25.0->geopandas) (2018.9)\n",
            "Installing collected packages: munch, cligj, click-plugins, pyproj, fiona, geopandas\n",
            "Successfully installed click-plugins-1.1.1 cligj-0.7.2 fiona-1.8.20 geopandas-0.10.2 munch-2.5.0 pyproj-3.2.1\n"
          ]
        }
      ]
    },
    {
      "cell_type": "code",
      "source": [
        "import pandas as pd\n",
        "import geopandas\n",
        "import matplotlib.pyplot as plt\n",
        "import numpy as np"
      ],
      "metadata": {
        "id": "IZoAtJ4iWevQ"
      },
      "execution_count": null,
      "outputs": []
    },
    {
      "cell_type": "markdown",
      "source": [
        "COGS: (LONG,LAT): (-65.168,44.8850)"
      ],
      "metadata": {
        "id": "9yz2axzuXsU4"
      }
    },
    {
      "cell_type": "code",
      "source": [
        "######Generating 2 dimensional point surface shapefiles with geopandas#####  \n",
        "#You can run this on google colab\n",
        "#https://colab.research.google.com/drive/10mrdxW8CBjCJ1blP4ALTwgruy5UntomT?usp=sharing\n",
        "#Also on GitHub: https://github.com/JuanCReyes1/GeospatialDataAnalysis/blob/main/KrigingApp.ipynb\n",
        "\n",
        "#### We will generate a rectangular region centred about a geographical location using the\n",
        "#### EPSG Geodetic Parameter Code '4326' for the World Geodetic System Datum WGS84.\n",
        "#  \n",
        "\n",
        "## This version could only work with Python 3.1 \n",
        "## Import necessary libraries\n",
        "import pandas as pd\n",
        "import geopandas\n",
        "import numpy as np\n",
        "\n",
        "##Geographical Considerations\n",
        "\n",
        "## The latitude and longitude for The Centre of Geographic Sciences, Lawrencetown Village, Nova Scotia, Canada.\n",
        "## This is the mathematical origin of the surface\n",
        "datum = \"EPSG:4326\"\n",
        "cogs_long = -65.16843\n",
        "cogs_lat = 44.885073\n",
        "earth_circumference = 40074 #km\n",
        "\n",
        "###Calculate a kilometer of distance horizontally and vertically based on this location.\n",
        "###We need to convert our latitude to radians since latitude\n",
        "### is dependent on geographic latitude.\n",
        "cogs_lat_radians = cogs_lat * (np.pi/180) #conversion of degrees to radians\n",
        "#longitude kilometer conversion: 1deg = 111.320*cos(latitude) km\n",
        "long_km = 360 / (earth_circumference * np.cos(cogs_lat_radians)) \n",
        "#long_km = 360 / (earth_circumference * np.cos(cogs_lat)) \n",
        "# latitude kilometer conversion: 1deg = 110.574 km (Equal across the globe)\n",
        "lat_km = 1/110.574 \n",
        "n=1 # n is the number of points per dimension, initializing with 1.\n",
        "\n",
        "###################Spatial Functions###################\n",
        "\"\"\" \n",
        " A few functions we will use for COGS (2040): Geospatial Statistics.\n",
        " We will use these functions to generate synthetic test data to \n",
        " test a wide variety of geostatistical functions and algorithms. \n",
        "\n",
        "\"\"\"\n",
        "\n",
        "#Constant function of '1s' at every spatial location. Homogeneous.\n",
        "def ones_2d(size=n):\n",
        "    return np.ones((n,n))\n",
        "\n",
        "# Random normally distributed values, can set the mean and standard deviation. Can be scaled with the parameter A.\n",
        "def normal_dist_2d(mean=0,sd=1,size=n,A=1):\n",
        "    return A*np.random.normal(mean,sd, size =(n,n))\n",
        "\n",
        "# https://en.wikipedia.org/wiki/Gaussian_function#Two-dimensional_Gaussian_function  \n",
        "# This 2D gaussian function is centered about COGS.\n",
        "# There are independent values for means and std devs in both the x and y axes.\n",
        "# I had to play with the means (mx,my), standard deviations(sx,sy) to get them to look 'nice' on the graph.\n",
        "# Feel free to tweak these parameters to adjust the shape of the distribution\n",
        "# Added the shift parameter to further shift the bell shape along x, or y. This is useful for adding gaussians together.\n",
        "def gaus2d(x=0, y=0, mx=cogs_long, my=cogs_lat, sx=0.009, sy=0.009,shift_x=0.01,shift_y=0.00):\n",
        "    # Different amplitude parameters, wikipedia uses A=1, however the chosen amplitude is usually selected\n",
        "      # for gaussian normalization (integral = 1)\n",
        "\n",
        "    #A=1  \n",
        "    A = 1. / (2 * np.pi*sx * sy)\n",
        "    #A1 = 1/ (np.sqrt(2*np.pi * sx**2 *sy**2))\n",
        "\n",
        "    return A * np.exp(-((x - mx - shift_x)**2. / (2. * sx**2.) + (y - my - shift_y)**2. / (2. * sy**2.)))\n",
        "\n",
        "\n",
        "# Trig function that I thought was cool... highly nonlinear so don't expect any methods to work..\n",
        "def cool_trig_function(A=1,f=0.481,w=2.05,inner_pow = 4, outer_pow=2,cogs_long=cogs_long, cogs_lat=cogs_lat):\n",
        "\n",
        "    return A*(np.sin( f*(yy-w*cogs_long)**inner_pow + f*(xx-w*cogs_lat)**inner_pow ) )**outer_pow/ np.sqrt(xx**2 + yy**2)\n",
        "    #z1 = 1*(np.sin( 0.481*(yy-2.05*cogs_long)**4 + 0.481*(xx-2.05*cogs_lat)**4 ) )**2/np.sqrt(xx**2 + yy**2)\n",
        "\n",
        "again = \"Y\"\n",
        "while again[0].upper() != \"N\":\n",
        "\n",
        "\n",
        "    ###We will create a regular rectangular grid where we can plot various spatial functions.\n",
        "\n",
        "    ### The exercise is to use these functions as a baseline for our statistical methods to extrapolate.\n",
        "\n",
        "    #Number of points to calculate for each dimension in our grid (total points is n**2)\n",
        "    n = int(input(\"How many points do you want per axes? Suggestion: 60\\n\") or \"60\")\n",
        "    shift=int(input(\"How many km's away from cogs do you want to sample? Suggestion: 2\\n\") or \"2\")\n",
        "\n",
        "    x = np.linspace(cogs_lat - shift*lat_km, cogs_lat + shift*lat_km,n, endpoint=True)\n",
        "    y = np.linspace(cogs_long - shift*long_km,cogs_long + shift*long_km,n, endpoint=True)\n",
        "    \n",
        "    xx , yy = np.meshgrid(x,y,indexing='ij')\n",
        "\n",
        "    print(\"Which spatial function do you want to convert to a .shp file?\")\n",
        "    print(\"\\n\\t 1. 2D Constant Surface\")\n",
        "    print(\"\\n\\t 2. 2D Random Normal Distribution\")\n",
        "    print(\"\\n\\t 3. 2D Gaussian\")\n",
        "    print(\"\\n\\t 4. Two-2D Gaussians \")\n",
        "    print(\"\\n\\t 5. 2D Trigonometric (Very Nonlinear) \\n \")\n",
        "\n",
        "    choice = 0\n",
        "    while choice == 0:\n",
        "      \n",
        "        try:\n",
        "\n",
        "            choice = input(\"Please select a number from 1-4 indicating your choice: \\n\")\n",
        "\n",
        "            if choice.isnumeric() == False:\n",
        "                print(\"You selected a non-numeric answer,please enter a valid number in the given range. \\n \")\n",
        "                \n",
        "                choice = 0\n",
        "\n",
        "            choice = int(choice)\n",
        "\n",
        "            if choice == 1:\n",
        "                print(\"You selected the 2D Constant Surface.\")\n",
        "\n",
        "                z = ones_2d(n)\n",
        "                \n",
        "\n",
        "            elif choice == 2:\n",
        "                print(\"You selected the 2D Random Normal Distribution.\")\n",
        "                print(\"Leave a blank if you prefer the default value.\")\n",
        "                mean = float(input(\"Select the mean of the distribution. Default is 0. \\n\") or \"0\")\n",
        "                sd = float(input(\"Select the standard deviation of the distribution. Default is 1. \\n\") or \"1\")\n",
        "                A = float(input(\"Select a scaling for the distribution. Default is 1. \\n\") or \"1\")\n",
        "\n",
        "                z= normal_dist_2d(mean,sd,size=n,A=A)\n",
        "                \n",
        "\n",
        "            elif choice == 3:\n",
        "                print(\"You selected the 2D Gaussian Distribution.\")\n",
        "                print(\"Leave a blank if you prefer the default value.\")\n",
        "                print(\"This gaussian is centered about the COGS latitude and longitude. \\n\")\n",
        "                \n",
        "                sx = float(input(\"Please enter the horizontal standard deviation. Default is 0.009. \\n\") or \"0.009\")\n",
        "                sy = float(input(\"Please enter the vertical standard deviation. Default is 0.009. \\n\") or \"0.009\")\n",
        "                shift_x = float(input(\"Please enter the horizontal shift of the gaussian away from COGS. Default is 0.00.\")  or \"0.00\")\n",
        "                shift_y = float(input(\"Please enter the vertical shift of the gaussian away from COGS. Default is 0.00.\")  or \"0.00\")\n",
        "\n",
        "                z = gaus2d(x=yy,y=xx,mx=cogs_long, my=cogs_lat,sx=sx,sy=sy,shift_x=shift_x,shift_y=shift_y)\n",
        "\n",
        "            elif choice == 4:\n",
        "                print(\"You selected the Two - 2D Gaussian Distribution.\")\n",
        "                print(\"Leave a blank if you prefer the default values.\")\n",
        "                print(\"Two gaussians are generated East and West of COGS. \\n\")\n",
        "                print(\"\\t Please enter the following values for the Westward Gaussian. \\n\")\n",
        "                \n",
        "                sx = float(input(\"Please enter the horizontal standard deviation. Default is 0.009. \\n\") or \"0.009\")\n",
        "                sy = float(input(\"Please enter the vertical standard deviation. Default is 0.009. \\n\") or \"0.009\")\n",
        "                shift_x = float(input(\"Please enter the horizontal shift of the gaussian away from COGS. Default is -0.01.\\n\")  or \"-0.01\")\n",
        "                shift_y = float(input(\"Please enter the vertical shift of the gaussian away from COGS. Default is -0.01. \\n\")  or \"-0.01\")\n",
        "\n",
        "                #Westward Gaussian (x-shifted and y-shifted)\n",
        "                z1 = gaus2d(x=yy,y=xx,mx=cogs_long, my=cogs_lat,sx=sx,sy=sy,shift_x=shift_x,shift_y=shift_y)\n",
        "\n",
        "                print(\"\\t\\t Please enter the following values for the Eastward Gaussian. \\n\")\n",
        "                sx = float(input(\"Please enter the horizontal standard deviation. Default is 0.009. \\n\") or \"0.009\")\n",
        "                sy = float(input(\"Please enter the vertical standard deviation. Default is 0.009. \\n\") or \"0.009\")\n",
        "                shift_x = float(input(\"Please enter the horizontal shift of the gaussian away from COGS. Default is 0.01.\\n\")  or \"0.01\")\n",
        "                shift_y = float(input(\"Please enter the vertical shift of the gaussian away from COGS. Default is 0.01. \\n\")  or \"0.01\")\n",
        "\n",
        "                #Eastward Gaussian (x-shifted and y-shifted)\n",
        "                z2 = gaus2d(x=yy,y=xx,mx=cogs_long, my=cogs_lat,sx=sx,sy=sy,shift_x=shift_x,shift_y=shift_y)\n",
        "\n",
        "                # Both distributions are simply added together.\n",
        "                z = z1 + z2\n",
        "                \n",
        "\n",
        "            elif choice == 5:\n",
        "                print(\"You selected the Trigonometric Function.\")\n",
        "                print(\"You selected the 2D Trigonometric Distribution.\")\n",
        "                print(\"Leave a blank if you prefer the default value.\")\n",
        "                print(\"This trig function is centered about COGS latitude and longitude. \\n\")\n",
        "                A = float(input(\"Select a scaling for the distribution. Default is 1. \\n\") or \"1\")\n",
        "                f = float(input(\"Select a frequency for the function. Default is 0.481. \\n\") or \"0.481\")\n",
        "                w = float(input(\"Select an angular velocity for the function. Default is 2.05. \\n\") or \"2.05\")\n",
        "                outer_pow = float(input(\"Select an outer exponential power for the trig function. Default is 2. \\n\") or \"2\")\n",
        "                inner_pow = float(input(\"Select an inner exponential power for the trif function. Default is 4. \\n\") or \"4\")\n",
        "\n",
        "                z = cool_trig_function(A=A,f=f,w=w,inner_pow = inner_pow, outer_pow=outer_pow,cogs_long=cogs_long, cogs_lat=cogs_lat)\n",
        "                \n",
        "\n",
        "            else:\n",
        "                raise ValueError()\n",
        "                \n",
        "\n",
        "        except ValueError:\n",
        "            print(\"You selected a number that is outside of the allowed range, try again. \\n\")\n",
        "            choice = 0\n",
        "\n",
        "    #Create a data frame with our x,y, and target variables\n",
        "    df = pd.DataFrame(z,index = x, columns=y)\n",
        "    #Create a temporary data frame that unstacks the results and renames columns\n",
        "    newdf = df.unstack().reset_index().rename(columns={'level_0':'longitude','level_1':'lat',0:'target_variable'})\n",
        "    \n",
        "    print(\"What sample of the data do you want to retain?\")\n",
        "    portion = float(input(\"Enter a fractional number between 0-1. Default is 1 (entire data set). \\n\") or \"1.0\" )\n",
        "    newdf=newdf.sample(frac=portion)\n",
        "    \n",
        "    #Create a geopandas geodataframe to begin transition to .shp file. Assign Point Data.\n",
        "    gdf = geopandas.GeoDataFrame(newdf, geometry=geopandas.points_from_xy(newdf.longitude, newdf.lat))\n",
        "    #Define a Geodetic Parameter. EPSG 4326 refers to WGS84 geodetic datum.\n",
        "    gdf.crs = datum\n",
        "\n",
        "    filename = input(\"Enter a name for the shapefile: \\t\\n\")\n",
        "\n",
        "    gdf.to_file(driver = 'ESRI Shapefile', filename= filename + \".shp\") \n",
        "\n",
        "      \n",
        "    again = input(\"Run the algorithm again?\\n \")     \n",
        "    if len(again) == 0:\n",
        "        again = \"Y\"\n",
        "\n",
        "print(\" ---- Good Bye\"*4, \"----\")\n",
        "\n",
        "####If you are interested in plotting these functions on python the following function \n",
        "## Is useful to plot with matplotlib\n",
        "\n",
        "#import matplotlib.pyplot as plt\n",
        "#plt.contourf(xx, yy, z, cmap = 'jet')"
      ],
      "metadata": {
        "colab": {
          "base_uri": "https://localhost:8080/"
        },
        "id": "MO56BfuUMtOD",
        "outputId": "c4e194c1-531b-4112-b957-86f9b3e3ff11"
      },
      "execution_count": 126,
      "outputs": [
        {
          "name": "stdout",
          "output_type": "stream",
          "text": [
            "How many points do you want per axes? Suggestion: 60\n",
            "\n",
            "How many km's away from cogs do you want to sample? Suggestion: 2\n",
            "\n",
            "Which spatial function do you want to convert to a .shp file?\n",
            "\n",
            "\t 1. 2D Constant Surface\n",
            "\n",
            "\t 2. 2D Random Normal Distribution\n",
            "\n",
            "\t 3. 2D Gaussian\n",
            "\n",
            "\t 4. Two-2D Gaussians \n",
            "\n",
            "\t 5. 2D Trigonometric (Very Nonlinear) \n",
            " \n",
            "Please select a number from 1-4 indicating your choice: \n",
            "5\n",
            "You selected the Trigonometric Function.\n",
            "You selected the 2D Trigonometric Distribution.\n",
            "Leave a blank if you prefer the default value.\n",
            "This trig function is centered about COGS latitude and longitude. \n",
            "\n",
            "Select a scaling for the distribution. Default is 1. \n",
            "\n",
            "Select a frequency for the function. Default is 0.481. \n",
            "\n",
            "Select an angular velocity for the function. Default is 2.05. \n",
            "\n",
            "Select an outer exponential power for the trig function. Default is 2. \n",
            "\n",
            "Select an inner exponential power for the trif function. Default is 4. \n",
            "\n",
            "What sample of the data do you want to retain?\n",
            "Enter a fractional number between 0-1. Default is 1 (entire data set). \n",
            "\n",
            "Enter a name for the shapefile: \t\n",
            "fgh\n"
          ]
        },
        {
          "output_type": "stream",
          "name": "stderr",
          "text": [
            "/usr/local/lib/python3.7/dist-packages/ipykernel_launcher.py:203: UserWarning: Column names longer than 10 characters will be truncated when saved to ESRI Shapefile.\n"
          ]
        },
        {
          "output_type": "stream",
          "name": "stdout",
          "text": [
            "Run the algorithm again?\n",
            " n\n",
            " ---- Good Bye ---- Good Bye ---- Good Bye ---- Good Bye ----\n"
          ]
        }
      ]
    },
    {
      "cell_type": "code",
      "source": [
        "\n",
        "plt.contourf(yy, xx, z, cmap = 'jet')"
      ],
      "metadata": {
        "id": "g3JVegItCdRd",
        "colab": {
          "base_uri": "https://localhost:8080/",
          "height": 284
        },
        "outputId": "35b75b57-9d68-470d-ad12-d69922835d2c"
      },
      "execution_count": 130,
      "outputs": [
        {
          "output_type": "execute_result",
          "data": {
            "text/plain": [
              "<matplotlib.contour.QuadContourSet at 0x7fc1dc173590>"
            ]
          },
          "metadata": {},
          "execution_count": 130
        },
        {
          "output_type": "display_data",
          "data": {
            "image/png": "[encoded data removed]",
            "text/plain": [
              "<Figure size 432x288 with 1 Axes>"
            ]
          },
          "metadata": {
            "needs_background": "light"
          }
        }
      ]
    },
    {
      "cell_type": "code",
      "source": [
        ""
      ],
      "metadata": {
        "id": "Ft637U5yZj1b"
      },
      "execution_count": null,
      "outputs": []
    }
  ]
}