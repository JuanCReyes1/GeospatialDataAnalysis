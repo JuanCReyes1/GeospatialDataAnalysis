{
 "cells": [
  {
   "cell_type": "code",
   "execution_count": 1,
   "metadata": {},
   "outputs": [],
   "source": [
    "import pandas as pd\n",
    "from arcgis.gis import GIS\n",
    "from arcgis.geocoding import geocode"
   ]
  },
  {
   "cell_type": "code",
   "execution_count": 2,
   "metadata": {},
   "outputs": [
    {
     "data": {
      "application/vnd.jupyter.widget-view+json": {
       "model_id": "8b16a269cff94698ab9985fc50325dab",
       "version_major": 2,
       "version_minor": 0
      },
      "text/plain": [
       "MapView(layout=Layout(height='400px', width='100%'))"
      ]
     },
     "metadata": {},
     "output_type": "display_data"
    },
    {
     "data": {
      "text/html": [
       "<div class=\"map-static-img-preview-79ddf686-d80f-4d11-984c-14c3db3bcdca\"><img src=\"\"></img></div>"
      ],
      "text/plain": [
       "<display.HTML object>"
      ]
     },
     "metadata": {},
     "output_type": "display_data"
    },
    {
     "data": {
      "text/html": [
       "<div class=\"map-html-embed-preview-79ddf686-d80f-4d11-984c-14c3db3bcdca\"></div>"
      ],
      "text/plain": [
       "<display.HTML object>"
      ]
     },
     "metadata": {},
     "output_type": "display_data"
    }
   ],
   "source": [
    "Halifax_GIS_Map = GIS(username = \"JuanCReyes1\", password=\"Kamituru1.\")\n",
    "\n",
    "places_dict= {\"Dartmouth\":\"Dartmouth,Nova Scotia,Canada\",\n",
    "              \"Halifax\": \"Halifax, Nova Scotia, Canada\",\n",
    "              \"Bedford\": \"Bedford, Nova Scotia, Canada\"\n",
    "              }\n",
    "Halifax_Covid_Exposures = Halifax_GIS_Map.map(places_dict[\"Dartmouth\"],12)\n",
    "Halifax_Covid_Exposures.basemap = \"streets-night-vector\" #map style\n",
    "Halifax_Covid_Exposures"
   ]
  },
  {
   "cell_type": "code",
   "execution_count": 3,
   "metadata": {},
   "outputs": [
    {
     "name": "stdout",
     "output_type": "stream",
     "text": [
      "Check for NaN values in our columns\n",
      "Place: False\n",
      "Potential Exposure Window: False\n",
      "Address: True\n",
      "Details: False\n",
      "Zone: True\n",
      "Last Updated: False\n",
      "Exposure Area: True\n",
      "Empty values in exposure area\n",
      "Zone value empty due to flights\n",
      "Zone Data Cleaning Complete: False\n",
      "Attributing Covid Flights to Halifax Stanfield International Airport\n",
      "Creating A Geolocation Address Column For Each Exposure Site...\n",
      "Geolocation Address Column: Included\n",
      "Creating Geolocation Address Coordinates\n",
      "Creating ArcGIS Map Object\n",
      "Complete\n",
      "Create Latitude & Longitude Columns\n",
      "Creating Latitude and Longitude Columns\n",
      "Exporting to CSV\n",
      "CSV Complete\n"
     ]
    }
   ],
   "source": [
    "#1 data import\n",
    "df1 = pd.read_html(\"http://www.nshealth.ca/covid-exposures\")\n",
    "df2 = pd.read_html(\"https://www.nshealth.ca/coronavirus-exposures?title=&field_covid_exposure_zone_value=All&page=1\")\n",
    "df_transit = pd.read_html(\"https://www.nshealth.ca/coronavirus-exposures-transit\")\n",
    "df_transit = df_transit[0].rename(columns={'Route or flight': \"Place\"})\n",
    "df3 = pd.concat([df1[0],df2[0],df_transit], ignore_index = True)\n",
    "\n",
    "\n",
    "#2 data cleaning\n",
    "##Check For NaN values\n",
    "if df3.isnull().values.any():\n",
    "    print(\"Check for NaN values in our columns\")\n",
    "    print(\"Place: \" + str(df3[\"Place\"].isnull().values.any()))\n",
    "    print(\"Potential Exposure Window: \" + str(df3[\"Potential Exposure Window\"].isnull().values.any()))\n",
    "    print(\"Address: \" + str(df3[\"Address\"].isnull().values.any()))\n",
    "    print(\"Details: \" + str(df3[\"Details\"].isnull().values.any()))\n",
    "    print(\"Zone: \" + str(df3[\"Zone\"].isnull().values.any()))\n",
    "    print(\"Last Updated: \" + str(df3[\"Last Updated\"].isnull().values.any()))\n",
    "    print(\"Exposure Area: \" + str(df3[\"Exposure area\"].isnull().values.any()))\n",
    "#print(\"no null values\")\n",
    "\n",
    "#Exposure Area NAN\n",
    "\n",
    "if df3[\"Exposure area\"].isnull().values.any():\n",
    "    print(\"Empty values in exposure area\")\n",
    "    null_exposures_index = df3[df3[\"Exposure area\"].isnull().values].index\n",
    "    df3[\"Exposure area\"].iloc[null_exposures_index] = df3[\"Place\"].iloc[null_exposures_index]\n",
    "\n",
    "\n",
    "##Zone Column NAN\n",
    "if df3['Zone'].isnull().values.any():\n",
    "    print(\"Zone value empty due to flights\")\n",
    "    null_zone_index = df3[df3['Zone'].isnull().values].index\n",
    "    df3.iloc[null_zone_index,4] = \"Flight\"\n",
    "    print(\"Zone Data Cleaning Complete: \"+ str(df3[\"Zone\"].isnull().any()))\n",
    "#print(\"no null zone values\")\n",
    "\n",
    "\n",
    "#Identify Covid Flights and Transit Routes\n",
    "print(\"Attributing Covid Flights to Halifax Stanfield International Airport\")\n",
    "covid_flights = df3[df3[\"Place\"].str.contains(\"to Halifax\")]\n",
    "covid_bus_routes = df3[(df3[\"Place\"].str.contains(\"Transit\")) | (df3[\"Place\"].str.contains(\"Route\"))]\n",
    "#Update Covid Flights Address to Halifax Stanfield International Airport:\n",
    "df3[\"Address\"].iloc[covid_flights.index] = \"Halifax Stanfield International Airport\"\n",
    "df3[\"Zone\"].iloc[covid_flights.index] = \"Flight\"\n",
    "\n",
    "#Update Covid Routes Address to the Transit Route\n",
    "df3[\"Address\"].iloc[covid_bus_routes.index] = \"Halifax Transit Bridge Terminal\"\n",
    "#df3[\"Zone\"].iloc[covid_bus_routes.index] = \"Halifax Transit Bridge Terminal\"\n",
    "\n",
    "#Create a Geolocation Address which will be fed into ArcGIS\n",
    "print(\"Creating A Geolocation Address Column For Each Exposure Site...\")\n",
    "df3['Geolocation Address'] = df3[['Place', 'Address']].apply(lambda x: '-'.join(x.map(str)), axis=1)\n",
    "print(\"Geolocation Address Column: Included\")\n",
    "\n",
    "\n",
    "\n",
    "print(\"Creating Geolocation Address Coordinates\")\n",
    "##Create GIS Object!\n",
    "print(\"Creating ArcGIS Map Object\")\n",
    "Halifax_GIS_Map = GIS()\n",
    "\n",
    "df3['Geolocation Address Coords'] = df3['Geolocation Address'].apply(lambda x: geocode(x,out_fields=\"address,location,City,Country,URL\"))\n",
    "print(\"Complete\")\n",
    "\n",
    "##Obtaining Latitude and Longitude for each address:\n",
    "print(\"Create Latitude & Longitude Columns\")\n",
    "indices = df3['Geolocation Address Coords'].index\n",
    "longitudeseries = []\n",
    "latitudeseries = []\n",
    "\n",
    "print(\"Creating Latitude and Longitude Columns\")\n",
    "for number in indices:\n",
    "    #print(number)\n",
    "    longitudeseries.append(df3['Geolocation Address Coords'][number][0][\"location\"][\"x\"])\n",
    "    latitudeseries.append(df3['Geolocation Address Coords'][number][0][\"location\"][\"y\"])\n",
    "\n",
    "df3[\"longitude\"] = longitudeseries\n",
    "df3[\"latitude\"] = latitudeseries\n",
    "\n",
    "##Export to CSV\n",
    "print(\"Exporting to CSV\")\n",
    "df3.to_csv('./covidlocations.csv')\n",
    "print(\"CSV Complete\")"
   ]
  },
  {
   "cell_type": "code",
   "execution_count": 4,
   "metadata": {},
   "outputs": [],
   "source": [
    "geotag_symbol_dict_redbullseye = {\"angle\":0,\"xoffset\":0,\"yoffset\":0,\"type\":\"esriPMS\",\"url\":\"http://static.arcgis.com/images/Symbols/Basic/esriCrimeMarker_86.png\",\"contentType\":\"image/png\",\"width\":16,\"height\":16}\n",
    "geotag_symbol_dict_redfirefly = {\"angle\":0,\"xoffset\":0,\"yoffset\":0,\"type\":\"esriPMS\",\"url\":\"https://static.arcgis.com/images/Symbols/Firefly/FireflyD20.png\",\"contentType\":\"image/png\",\"width\":24,\"height\":24}\n",
    "geotag_symbol_dict_radioactive = {\"angle\":0,\"xoffset\":0,\"yoffset\":0,\"type\":\"esriPMS\",\"url\":\"http://static.arcgis.com/images/Symbols/PeoplePlaces/Radioactive.png\",\"contentType\":\"image/png\",\"width\":16,\"height\":16}\n"
   ]
  },
  {
   "cell_type": "code",
   "execution_count": 5,
   "metadata": {},
   "outputs": [
    {
     "name": "stdout",
     "output_type": "stream",
     "text": [
      "Plotting location number 0/ 94: Café Marco Polo-15 Kings Wharf Pl., Dartmouth\n",
      "Plotting location number 1/ 94: Access Nova Scotia-300 Horseshoe Lake Dr., Halifax\n",
      "Plotting location number 2/ 94: Pitch & Pivot-240 Brownlow Ave., Dartmouth\n",
      "Plotting location number 3/ 94: The Old Triangle Irish Alehouse-5136 Prince St, Halifax\n",
      "Plotting location number 4/ 94: Moxies Bar & Grill-9 Countryview Dr., Dartmouth\n",
      "Plotting location number 5/ 94: Ela! Greek Taverna-150 Hector Gate, Dartmouth\n",
      "Plotting location number 6/ 94: Sou’Wester Gift and Restaurant-178 Peggys Point Rd., Peggys Cove\n",
      "Plotting location number 7/ 94: Hermitage-1460 Lower Water St., Halifax\n",
      "Plotting location number 8/ 94: Pür & Simple-189 Hector Gate, Dartmouth\n",
      "Plotting location number 9/ 94: Pitch & Pivot-240 Brownlow Ave., Dartmouth\n",
      "Plotting location number 10/ 94: Hermitage-1460 Lower Water St., Halifax\n",
      "Plotting location number 11/ 94: GoodLife Fitness-3711 Joseph Howe Dr., Halifax\n",
      "Plotting location number 12/ 94: Hermitage-1460 Lower Water St., Halifax\n",
      "Plotting location number 13/ 94: Springhill Miners Memorial Library-8 Pioneer St., Springhill\n",
      "Plotting location number 14/ 94: The PIER-1209 Marginal Rd., Halifax\n",
      "Plotting location number 15/ 94: Thai Express-50 Foulis Row, Dartmouth\n",
      "Plotting location number 16/ 94: Swiss Chalet-482 Grand Lake Rd., Sydney\n",
      "Plotting location number 17/ 94: Rath Eastlink Community Centre-aquatics area only (625 Abenaki Rd., Truro)\n",
      "Plotting location number 18/ 94: Montana’s-196B Chain Lake Dr., Halifax\n",
      "Plotting location number 19/ 94: Boston Pizza-68 Robie St., Truro\n",
      "Plotting location number 20/ 94: Let’s Ko-30 Damascus Rd., Unit 110, Bedford\n",
      "Plotting location number 21/ 94: McDonald's-272 Lacewood Dr., Halifax\n",
      "Plotting location number 22/ 94: Chaba Thai-1511 Bedford Hwy., Bedford\n",
      "Plotting location number 23/ 94: Amherst Stadium-185 Church St., Amherst\n",
      "Plotting location number 24/ 94: North Shore Recreation Centre-30 Blair Ave., Tatamagouche\n",
      "Plotting location number 25/ 94: Yoka Japanese and Thai Restaurant-911 Prince St #1, Truro\n",
      "Plotting location number 26/ 94: Pizza Delight-4 Robert Angus Dr., Amherst\n",
      "Plotting location number 27/ 94: Pür and Simple-6140 Young St., Halifax\n",
      "Plotting location number 28/ 94: The Press Gang Restaurant & Oyster Bar-5218 Prince Street, Halifax\n",
      "Plotting location number 29/ 94: Steak and Stein-6061 Young St., Halifax\n",
      "Plotting location number 30/ 94: Halifax Convention Centre - Convention Hall level-1650 Argyle Street, Halifax\n",
      "Plotting location number 31/ 94: Scotiabank Centre - section 8 – seats 1-12 in rows E, F, G, H, J-1800 Argyle St., Halifax\n",
      "Plotting location number 32/ 94: Amherst Stadium-185 Church St., Amherst\n",
      "Plotting location number 33/ 94: Amherst Stadium-185 Church St., Amherst\n",
      "Plotting location number 34/ 94: Riverside Pub & Eatery-1552 Bedford Hwy, Bedford\n",
      "Plotting location number 35/ 94: Bowlarama Bayers Road-3459 Desmond Ave, Halifax\n",
      "Plotting location number 36/ 94: Easy Street Dinner-3625 Dutch Village Road, Halifax\n",
      "Plotting location number 37/ 94: Tim Horton's-4484 Upper Main St., Oxford\n",
      "Plotting location number 38/ 94: Tim’s Barbershop-211 S Albion St., Suite 104, Amherst\n",
      "Plotting location number 39/ 94: The YWCA of Cumberland-92 Church St., Amherst\n",
      "Plotting location number 40/ 94: Amherst Pharmasave-158 Robert Angus Dr., Amherst\n",
      "Plotting location number 41/ 94: Don Henderson Memorial Sportsplex-55 Carter Road, Brookfield\n",
      "Plotting location number 42/ 94: Oasis Pub-5661 Spring Garden Road, Halifax\n",
      "Plotting location number 43/ 94: Putting Edge-182 Chain Lake Drive, Halifax\n",
      "Plotting location number 44/ 94: Dairy Queen-188a Chain Lake Drive, Halifax\n",
      "Plotting location number 45/ 94: Pizza Delight-4 Robert Angus Drive, Amherst\n",
      "Plotting location number 46/ 94: Cineplex Cinemas Truro - movie “Venom: Let There Be Carnage” and the arcade-20 Treaty Trail, Millbrook\n",
      "Plotting location number 47/ 94: Your Father’s Moustache-5686 Spring Garden Road, Halifax\n",
      "Plotting location number 48/ 94: Don Henderson Memorial Sportsplex-55 Carter Road, Brookfield\n",
      "Plotting location number 49/ 94: Rob Bitars Ristorante-689 Nova Scotia Trunk 2, Elmsdale\n",
      "Plotting location number 50/ 94: Springhill Miners Memorial Library-8 Pioneer St., Springhill\n",
      "Plotting location number 51/ 94: Dalplex Basketball Courts in Field House-6260 South Street, Halifax\n",
      "Plotting location number 52/ 94: Halifax Shopping Centre Food Court-7001 Mumford Rd, Halifax\n",
      "Plotting location number 53/ 94: BMO Centre-61 Gary Martin Dr., Bedford\n",
      "Plotting location number 54/ 94: Le Bistro by Liz-1333 Park St., Halifax\n",
      "Plotting location number 55/ 94: Eastern Shore Community Center Arena-67 Park Rd., Musquodoboit Harbour\n",
      "Plotting location number 56/ 94: Porter’s Lake Family Eatery and Pub-5228 Trunk 7, Porters Lake\n",
      "Plotting location number 57/ 94: Halifax Forum-2901 Windsor St., Halifax\n",
      "Plotting location number 58/ 94: Grand Banker Bar and Grill, Lunenburg-82 Montague St., Lunenburg\n",
      "Plotting location number 59/ 94: Lunenburg Opera House-“William Prince” show (290 Lincoln St., Lunenburg)\n",
      "Plotting location number 60/ 94: Sam's Pizza-255 S Foord Street, Stellarton\n",
      "Plotting location number 61/ 94: Ikea-645 Cutler Avenue, Dartmouth\n",
      "Plotting location number 62/ 94: Playdium-21 Cabela Rd., Dartmouth\n",
      "Plotting location number 63/ 94: Scotiabank Theatre Halifax – Theatre/Screen 2, movie “Kurup”-190 Chain Lake Dr., Halifax\n",
      "Plotting location number 64/ 94: Tim’s Barber Shop-211 South Albion Street, Amherst\n",
      "Plotting location number 65/ 94: The Dome Night Club, Halifax-1739 Grafton Street, Halifax\n",
      "Plotting location number 66/ 94: Scotia Bank Centre-Section 19 – seats 2-12 in rows Q, R, S, T, U (1800 Argyle St., Halifax)\n",
      "Plotting location number 67/ 94: HFX Sports Bar-1721 Brunswick St., Halifax\n",
      "Plotting location number 68/ 94: Stellarton Cenotaph-Corner of North Ford Street and Bridge Avenue, Stellarton\n",
      "Plotting location number 69/ 94: Air Canada 624 Toronto to Halifax-Halifax Stanfield International Airport\n",
      "Plotting location number 70/ 94: Air Canada 8070 Ottawa to Halifax-Halifax Stanfield International Airport\n",
      "Plotting location number 71/ 94: Air Canada 614 Toronto to Halifax-Halifax Stanfield International Airport\n",
      "Plotting location number 72/ 94: Air Canada 624 Toronto to Halifax-Halifax Stanfield International Airport\n",
      "Plotting location number 73/ 94: WestJet 249 Halifax to Toronto-nan\n",
      "Plotting location number 74/ 94: Air Canada 626 Toronto to Halifax-Halifax Stanfield International Airport\n",
      "Plotting location number 75/ 94: Air Canada 8106 Montreal to Halifax-Halifax Stanfield International Airport\n",
      "Plotting location number 76/ 94: Halifax Transit Route #007 (Robie)-Halifax Transit Bridge Terminal\n",
      "Plotting location number 77/ 94: Halifax Transit Route #007 (Robie)-Halifax Transit Bridge Terminal\n",
      "Plotting location number 78/ 94: Halifax Transit Route #007 (Robie)-Halifax Transit Bridge Terminal\n",
      "Plotting location number 79/ 94: Halifax Transit Route #007 (Robie)-Halifax Transit Bridge Terminal\n",
      "Plotting location number 80/ 94: Halifax Transit #010 (Dalhousie)-Halifax Transit Bridge Terminal\n",
      "Plotting location number 81/ 94: Halifax Transit Route #003 (Crosstown)-Halifax Transit Bridge Terminal\n",
      "Plotting location number 82/ 94: Air Canada 624 Toronto to Halifax-Halifax Stanfield International Airport\n",
      "Plotting location number 83/ 94: Air Canada 620 Toronto to Halifax-Halifax Stanfield International Airport\n",
      "Plotting location number 84/ 94: Air Canada 620 Toronto to Halifax-Halifax Stanfield International Airport\n",
      "Plotting location number 85/ 94: Halifax Route #001 (Spring Garden)-Halifax Transit Bridge Terminal\n",
      "Plotting location number 86/ 94: Air Canada 664 Montreal to Halifax-Halifax Stanfield International Airport\n",
      "Plotting location number 87/ 94: Halifax Transit 010 (Dalhousie)-Halifax Transit Bridge Terminal\n",
      "Plotting location number 88/ 94: Swoop 408 from Toronto to Halifax-Halifax Stanfield International Airport\n",
      "Plotting location number 89/ 94: Halifax Transit Route #010 (Dalhousie)-Halifax Transit Bridge Terminal\n",
      "Plotting location number 90/ 94: Halifax Transit Route #001 (Spring Garden)-Halifax Transit Bridge Terminal\n",
      "Plotting location number 91/ 94: Air Canada 674 Calgary to Halifax-Halifax Stanfield International Airport\n",
      "Plotting location number 92/ 94: Halifax Transit Route 320 Regional Express Airport to Fall River-Halifax Transit Bridge Terminal\n",
      "Plotting location number 93/ 94: Air Canada 624 from Toronto to Halifax-Halifax Stanfield International Airport\n",
      "Plotting location number 94/ 94: Air Canada 8068 from Ottawa to Halifax-Halifax Stanfield International Airport\n"
     ]
    }
   ],
   "source": [
    "#plot covid locations\n",
    "for number in range(0,len(df3['Geolocation Address Coords'])):\n",
    "#for number in range(0,15):\n",
    "    location = df3['Geolocation Address Coords'][number][0][\"location\"]\n",
    "    popup = {\"title\": pd.Series(df3[\"Geolocation Address\"])[number], \"content\": pd.Series(df3[\"Exposure area\"])[number]}\n",
    "    symbol = geotag_symbol_dict_radioactive\n",
    "    attributes = {\"test\": \"what\"}\n",
    "    Halifax_Covid_Exposures.draw(shape = location,popup=popup, symbol = symbol ,attributes = \"test\")\n",
    "    print(\"Plotting location number \" + str(number) + \"/ \" +str(len(df3[\"Geolocation Address Coords\"])-1)+\": \" + pd.Series(df3[\"Geolocation Address\"])[number] )\n",
    "\n",
    "    \n",
    "#also plot all healthcare facilities in canada    \n",
    "covid_canada = Halifax_GIS_Map.content.search(\"title: Open Database of Healthcare Facilities - Canada\")\n",
    "covid_canada[0]\n",
    "covid_layer = Halifax_GIS_Map.content.get(covid_canada[0].id)\n",
    "Halifax_Covid_Exposures.add_layer(covid_layer,options={'opacity':1.2})"
   ]
  },
  {
   "cell_type": "code",
   "execution_count": null,
   "metadata": {},
   "outputs": [],
   "source": []
  }
 ],
 "metadata": {
  "kernelspec": {
   "display_name": "ArcGISPro",
   "language": "Python",
   "name": "python3"
  },
  "language_info": {
   "file_extension": ".py",
   "name": "python",
   "version": "3"
  }
 },
 "nbformat": 4,
 "nbformat_minor": 2
}
