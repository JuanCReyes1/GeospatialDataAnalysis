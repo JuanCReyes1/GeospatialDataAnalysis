{
 "cells": [
  {
   "attachments": {},
   "cell_type": "markdown",
   "metadata": {},
   "source": [
    "# Classifications\n",
    "https://desktop.arcgis.com/en/arcmap/10.3/manage-data/las-dataset/lidar-point-classification.htm\n"
   ]
  },
  {
   "cell_type": "code",
   "execution_count": 45,
   "metadata": {},
   "outputs": [
    {
     "data": {
      "text/html": [
       "<div>\n",
       "<style scoped>\n",
       "    .dataframe tbody tr th:only-of-type {\n",
       "        vertical-align: middle;\n",
       "    }\n",
       "\n",
       "    .dataframe tbody tr th {\n",
       "        vertical-align: top;\n",
       "    }\n",
       "\n",
       "    .dataframe thead th {\n",
       "        text-align: right;\n",
       "    }\n",
       "</style>\n",
       "<table border=\"1\" class=\"dataframe\">\n",
       "  <thead>\n",
       "    <tr style=\"text-align: right;\">\n",
       "      <th></th>\n",
       "      <th>Classification value</th>\n",
       "      <th>Meaning</th>\n",
       "    </tr>\n",
       "  </thead>\n",
       "  <tbody>\n",
       "    <tr>\n",
       "      <th>0</th>\n",
       "      <td>0</td>\n",
       "      <td>Never classified</td>\n",
       "    </tr>\n",
       "    <tr>\n",
       "      <th>1</th>\n",
       "      <td>1</td>\n",
       "      <td>Unassigned</td>\n",
       "    </tr>\n",
       "    <tr>\n",
       "      <th>2</th>\n",
       "      <td>2</td>\n",
       "      <td>Ground</td>\n",
       "    </tr>\n",
       "    <tr>\n",
       "      <th>3</th>\n",
       "      <td>3</td>\n",
       "      <td>Low Vegetation</td>\n",
       "    </tr>\n",
       "    <tr>\n",
       "      <th>4</th>\n",
       "      <td>4</td>\n",
       "      <td>Medium Vegetation</td>\n",
       "    </tr>\n",
       "    <tr>\n",
       "      <th>5</th>\n",
       "      <td>5</td>\n",
       "      <td>High Vegetation</td>\n",
       "    </tr>\n",
       "    <tr>\n",
       "      <th>6</th>\n",
       "      <td>6</td>\n",
       "      <td>Building</td>\n",
       "    </tr>\n",
       "    <tr>\n",
       "      <th>7</th>\n",
       "      <td>7</td>\n",
       "      <td>Low Point</td>\n",
       "    </tr>\n",
       "    <tr>\n",
       "      <th>8</th>\n",
       "      <td>8</td>\n",
       "      <td>Reserved*</td>\n",
       "    </tr>\n",
       "    <tr>\n",
       "      <th>9</th>\n",
       "      <td>9</td>\n",
       "      <td>Water</td>\n",
       "    </tr>\n",
       "    <tr>\n",
       "      <th>10</th>\n",
       "      <td>10</td>\n",
       "      <td>Rail</td>\n",
       "    </tr>\n",
       "    <tr>\n",
       "      <th>11</th>\n",
       "      <td>11</td>\n",
       "      <td>Road Surface</td>\n",
       "    </tr>\n",
       "    <tr>\n",
       "      <th>12</th>\n",
       "      <td>12</td>\n",
       "      <td>Reserved*</td>\n",
       "    </tr>\n",
       "    <tr>\n",
       "      <th>13</th>\n",
       "      <td>13</td>\n",
       "      <td>Wire - Guard (Shield)</td>\n",
       "    </tr>\n",
       "    <tr>\n",
       "      <th>14</th>\n",
       "      <td>14</td>\n",
       "      <td>Wire - Conductor (Phase)</td>\n",
       "    </tr>\n",
       "    <tr>\n",
       "      <th>15</th>\n",
       "      <td>15</td>\n",
       "      <td>Transmission Tower</td>\n",
       "    </tr>\n",
       "    <tr>\n",
       "      <th>16</th>\n",
       "      <td>16</td>\n",
       "      <td>Wire-Structure Connector (Insulator)</td>\n",
       "    </tr>\n",
       "    <tr>\n",
       "      <th>17</th>\n",
       "      <td>17</td>\n",
       "      <td>Bridge Deck</td>\n",
       "    </tr>\n",
       "    <tr>\n",
       "      <th>18</th>\n",
       "      <td>18</td>\n",
       "      <td>High Noise</td>\n",
       "    </tr>\n",
       "    <tr>\n",
       "      <th>19</th>\n",
       "      <td>19-63</td>\n",
       "      <td>Reserved</td>\n",
       "    </tr>\n",
       "    <tr>\n",
       "      <th>20</th>\n",
       "      <td>64-255</td>\n",
       "      <td>User Definable</td>\n",
       "    </tr>\n",
       "  </tbody>\n",
       "</table>\n",
       "</div>"
      ],
      "text/plain": [
       "   Classification value                               Meaning\n",
       "0                     0                      Never classified\n",
       "1                     1                            Unassigned\n",
       "2                     2                                Ground\n",
       "3                     3                        Low Vegetation\n",
       "4                     4                     Medium Vegetation\n",
       "5                     5                       High Vegetation\n",
       "6                     6                              Building\n",
       "7                     7                             Low Point\n",
       "8                     8                             Reserved*\n",
       "9                     9                                 Water\n",
       "10                   10                                  Rail\n",
       "11                   11                          Road Surface\n",
       "12                   12                             Reserved*\n",
       "13                   13                 Wire - Guard (Shield)\n",
       "14                   14              Wire - Conductor (Phase)\n",
       "15                   15                    Transmission Tower\n",
       "16                   16  Wire-Structure Connector (Insulator)\n",
       "17                   17                           Bridge Deck\n",
       "18                   18                            High Noise\n",
       "19                19-63                              Reserved\n",
       "20               64-255                        User Definable"
      ]
     },
     "execution_count": 45,
     "metadata": {},
     "output_type": "execute_result"
    }
   ],
   "source": [
    "import pandas as pd\n",
    "\n",
    "classes_esri = pd.read_html(\"https://desktop.arcgis.com/en/arcmap/10.3/manage-data/las-dataset/lidar-point-classification.htm\")\n",
    "classes_esri[1]"
   ]
  },
  {
   "attachments": {},
   "cell_type": "markdown",
   "metadata": {},
   "source": [
    "If we are starting with LAZ files we can convert to LAS if we wish with this function."
   ]
  },
  {
   "cell_type": "code",
   "execution_count": 55,
   "metadata": {},
   "outputs": [],
   "source": [
    "def convertLAZtoLAS():\n",
    "\n",
    "    import sys\n",
    "    import traceback\n",
    "    import laspy\n",
    "    import os\n",
    "    try:\n",
    "        print('Running LAZ_to_LAS.py')\n",
    "        \n",
    "        def convert_laz_to_las(in_laz, out_las):\n",
    "            las = laspy.read(in_laz)\n",
    "            las = laspy.convert(las)\n",
    "            las.write(out_las)        \n",
    "        \n",
    "        in_dir = './'\n",
    "        \n",
    "        for (dirpath, dirnames, filenames) in os.walk(in_dir):\n",
    "            for inFile in filenames:\n",
    "                if inFile.endswith('.laz'):\t\n",
    "                    in_laz = os.path.join(dirpath,inFile)\n",
    "                    \n",
    "                    out_las = in_laz.replace('laz', 'las') \n",
    "                    print('working on file: ',out_las)\n",
    "                    convert_laz_to_las(in_laz, out_las)\n",
    "                                \n",
    "        print('Finished without errors - LAZ_to_LAS.py')\n",
    "    except:\n",
    "        tb = sys.exc_info()[2]\n",
    "        tbinfo = traceback.format_tb(tb)[0]\n",
    "        print('Error in read_xmp.py')\n",
    "        print (\"PYTHON ERRORS:\\nTraceback info:\\n\" + tbinfo + \"\\nError Info:\\n\" + str(sys.exc_info()[1]))  \n",
    "\n",
    "\n"
   ]
  },
  {
   "attachments": {},
   "cell_type": "markdown",
   "metadata": {},
   "source": [
    "Now we can run this function to convert all of our LAZ files to LAS."
   ]
  },
  {
   "cell_type": "code",
   "execution_count": 56,
   "metadata": {},
   "outputs": [
    {
     "name": "stdout",
     "output_type": "stream",
     "text": [
      "Running LAZ_to_LAS.py\n",
      "working on file:  ./classification_17.las\n",
      "working on file:  ./classification_2.las\n",
      "working on file:  ./classification_3.las\n",
      "working on file:  ./classification_4.las\n",
      "working on file:  ./classification_5.las\n",
      "working on file:  ./classification_7.las\n",
      "working on file:  ./jogging_bridge_br.las\n",
      "working on file:  ./classification_9.las\n",
      "working on file:  ./classification_18.las\n",
      "Finished without errors - LAZ_to_LAS.py\n"
     ]
    },
    {
     "ename": "",
     "evalue": "",
     "output_type": "error",
     "traceback": [
      "\u001b[1;31mThe Kernel crashed while executing code in the the current cell or a previous cell. Please review the code in the cell(s) to identify a possible cause of the failure. Click <a href='https://aka.ms/vscodeJupyterKernelCrash'>here</a> for more info. View Jupyter <a href='command:jupyter.viewOutput'>log</a> for further details."
     ]
    }
   ],
   "source": [
    "convertLAZtoLAS()"
   ]
  },
  {
   "cell_type": "code",
   "execution_count": 1,
   "metadata": {},
   "outputs": [],
   "source": [
    "import open3d as o3d\n",
    "import laspy\n",
    "import numpy as np\n"
   ]
  },
  {
   "cell_type": "code",
   "execution_count": 2,
   "metadata": {},
   "outputs": [],
   "source": [
    "las = laspy.read('bearriver_downtown.laz')"
   ]
  },
  {
   "cell_type": "code",
   "execution_count": 5,
   "metadata": {},
   "outputs": [
    {
     "name": "stdout",
     "output_type": "stream",
     "text": [
      "<LasData(1.4, point fmt: <PointFormat(6, 0 bytes of extra dims)>, 36455780 points, 3 vlrs)>\n"
     ]
    }
   ],
   "source": [
    "print(las)"
   ]
  },
  {
   "cell_type": "code",
   "execution_count": 3,
   "metadata": {},
   "outputs": [
    {
     "data": {
      "text/plain": [
       "laspy.lasdata.LasData"
      ]
     },
     "execution_count": 3,
     "metadata": {},
     "output_type": "execute_result"
    }
   ],
   "source": [
    "type(las)"
   ]
  },
  {
   "cell_type": "code",
   "execution_count": 16,
   "metadata": {},
   "outputs": [],
   "source": [
    "#list(las.point_format.dimension_names)"
   ]
  },
  {
   "attachments": {},
   "cell_type": "markdown",
   "metadata": {},
   "source": [
    "Let's view all of the pre assigned classifications for this dataset."
   ]
  },
  {
   "cell_type": "code",
   "execution_count": 4,
   "metadata": {},
   "outputs": [
    {
     "name": "stdout",
     "output_type": "stream",
     "text": [
      "[2, 3, 4, 5, 7, 9, 17, 18]\n"
     ]
    }
   ],
   "source": [
    "classifications = list(set(las.classification))\n",
    "\n",
    "type(classifications)\n",
    "print(classifications)"
   ]
  },
  {
   "cell_type": "code",
   "execution_count": 7,
   "metadata": {},
   "outputs": [],
   "source": [
    "def get_classifications_laspy(classifications,las):\n",
    "\n",
    "    #create dictionary with complete data for each province\n",
    "    d = {\"original_dataset\": las}\n",
    "    #d = {}\n",
    "    print(\"The classifications contained in this .las dataset are: \")\n",
    "    print(classifications)\n",
    "\n",
    "    for classification in classifications:\n",
    "        print(\"Saving classification number: \" +str(classification))\n",
    "        classified_points = laspy.create(point_format=las.header.point_format, file_version=las.header.version)\n",
    "        classified_points.points = las.points[las.classification == classification]\n",
    "        \n",
    "        d[\"classification_{}\".format(str(classification))] = classified_points\n",
    "    \n",
    "    return d\n",
    "\n",
    "def laspy_classifications_to_laz(classifications_laspy):\n",
    "\n",
    "\n",
    "    for classification_las in classifications_laspy:\n",
    "\n",
    "        if classification_las == \"original_dataset\":\n",
    "            pass\n",
    "            print(\"skipped the original dataset.\")\n",
    "\n",
    "        else:\n",
    "            print(\"processing {} to a LAZ file: \".format(classification_las))\n",
    "            print(classifications_laspy[classification_las])\n",
    "            classifications_laspy[classification_las].write(\"classification_{}.laz\".format(classification_las.split(\"_\")[1]))\n",
    "            print(\"done\")\n",
    "\n",
    "def visualize_las(las):\n",
    "\n",
    "    dataset = np.vstack((las.X,las.Y,las.Z)).T\n",
    "    geom = o3d.geometry.PointCloud()\n",
    "    geom.points = o3d.utility.Vector3dVector(dataset)\n",
    "    o3d.visualization.draw_geometries([geom])"
   ]
  },
  {
   "cell_type": "code",
   "execution_count": 8,
   "metadata": {},
   "outputs": [
    {
     "name": "stdout",
     "output_type": "stream",
     "text": [
      "The classifications contained in this .las dataset are: \n",
      "[2, 3, 4, 5, 7, 9, 17, 18]\n",
      "Saving classification number: 2\n",
      "Saving classification number: 3\n",
      "Saving classification number: 4\n",
      "Saving classification number: 5\n",
      "Saving classification number: 7\n",
      "Saving classification number: 9\n",
      "Saving classification number: 17\n",
      "Saving classification number: 18\n"
     ]
    }
   ],
   "source": [
    "\n",
    "classifications = list(set(las.classification))\n",
    "classifications_laspy =  get_classifications_laspy(classifications=classifications,las=las)\n",
    "#laspy_classifications_to_laz(classifications_laspy=classifications_laspy)\n",
    "\n",
    "\n"
   ]
  },
  {
   "cell_type": "code",
   "execution_count": 9,
   "metadata": {},
   "outputs": [
    {
     "data": {
      "text/plain": [
       "{'original_dataset': <LasData(1.4, point fmt: <PointFormat(6, 0 bytes of extra dims)>, 36455780 points, 3 vlrs)>,\n",
       " 'classification_2': <LasData(1.4, point fmt: <PointFormat(6, 0 bytes of extra dims)>, 2943578 points, 0 vlrs)>,\n",
       " 'classification_3': <LasData(1.4, point fmt: <PointFormat(6, 0 bytes of extra dims)>, 7716819 points, 0 vlrs)>,\n",
       " 'classification_4': <LasData(1.4, point fmt: <PointFormat(6, 0 bytes of extra dims)>, 324350 points, 0 vlrs)>,\n",
       " 'classification_5': <LasData(1.4, point fmt: <PointFormat(6, 0 bytes of extra dims)>, 24392200 points, 0 vlrs)>,\n",
       " 'classification_7': <LasData(1.4, point fmt: <PointFormat(6, 0 bytes of extra dims)>, 7322 points, 0 vlrs)>,\n",
       " 'classification_9': <LasData(1.4, point fmt: <PointFormat(6, 0 bytes of extra dims)>, 1059170 points, 0 vlrs)>,\n",
       " 'classification_17': <LasData(1.4, point fmt: <PointFormat(6, 0 bytes of extra dims)>, 12057 points, 0 vlrs)>,\n",
       " 'classification_18': <LasData(1.4, point fmt: <PointFormat(6, 0 bytes of extra dims)>, 284 points, 0 vlrs)>}"
      ]
     },
     "execution_count": 9,
     "metadata": {},
     "output_type": "execute_result"
    }
   ],
   "source": [
    "classifications_laspy"
   ]
  },
  {
   "cell_type": "code",
   "execution_count": 14,
   "metadata": {},
   "outputs": [
    {
     "name": "stdout",
     "output_type": "stream",
     "text": [
      "\u001b[1;33m[Open3D WARNING] GLFW Error: Cocoa: Failed to find service port for display\u001b[0;m\n"
     ]
    },
    {
     "ename": "",
     "evalue": "",
     "output_type": "error",
     "traceback": [
      "\u001b[1;31mThe Kernel crashed while executing code in the the current cell or a previous cell. Please review the code in the cell(s) to identify a possible cause of the failure. Click <a href='https://aka.ms/vscodeJupyterKernelCrash'>here</a> for more info. View Jupyter <a href='command:jupyter.viewOutput'>log</a> for further details."
     ]
    }
   ],
   "source": [
    "visualize_las(classifications_laspy[\"classification_9\"])\n"
   ]
  },
  {
   "cell_type": "code",
   "execution_count": 10,
   "metadata": {},
   "outputs": [
    {
     "data": {
      "text/html": [
       "<div>\n",
       "<style scoped>\n",
       "    .dataframe tbody tr th:only-of-type {\n",
       "        vertical-align: middle;\n",
       "    }\n",
       "\n",
       "    .dataframe tbody tr th {\n",
       "        vertical-align: top;\n",
       "    }\n",
       "\n",
       "    .dataframe thead th {\n",
       "        text-align: right;\n",
       "    }\n",
       "</style>\n",
       "<table border=\"1\" class=\"dataframe\">\n",
       "  <thead>\n",
       "    <tr style=\"text-align: right;\">\n",
       "      <th></th>\n",
       "      <th>Classification value</th>\n",
       "      <th>Meaning</th>\n",
       "    </tr>\n",
       "  </thead>\n",
       "  <tbody>\n",
       "    <tr>\n",
       "      <th>0</th>\n",
       "      <td>0</td>\n",
       "      <td>Never classified</td>\n",
       "    </tr>\n",
       "    <tr>\n",
       "      <th>1</th>\n",
       "      <td>1</td>\n",
       "      <td>Unassigned</td>\n",
       "    </tr>\n",
       "    <tr>\n",
       "      <th>2</th>\n",
       "      <td>2</td>\n",
       "      <td>Ground</td>\n",
       "    </tr>\n",
       "    <tr>\n",
       "      <th>3</th>\n",
       "      <td>3</td>\n",
       "      <td>Low Vegetation</td>\n",
       "    </tr>\n",
       "    <tr>\n",
       "      <th>4</th>\n",
       "      <td>4</td>\n",
       "      <td>Medium Vegetation</td>\n",
       "    </tr>\n",
       "    <tr>\n",
       "      <th>5</th>\n",
       "      <td>5</td>\n",
       "      <td>High Vegetation</td>\n",
       "    </tr>\n",
       "    <tr>\n",
       "      <th>6</th>\n",
       "      <td>6</td>\n",
       "      <td>Building</td>\n",
       "    </tr>\n",
       "    <tr>\n",
       "      <th>7</th>\n",
       "      <td>7</td>\n",
       "      <td>Low Point</td>\n",
       "    </tr>\n",
       "    <tr>\n",
       "      <th>8</th>\n",
       "      <td>8</td>\n",
       "      <td>Reserved*</td>\n",
       "    </tr>\n",
       "    <tr>\n",
       "      <th>9</th>\n",
       "      <td>9</td>\n",
       "      <td>Water</td>\n",
       "    </tr>\n",
       "    <tr>\n",
       "      <th>10</th>\n",
       "      <td>10</td>\n",
       "      <td>Rail</td>\n",
       "    </tr>\n",
       "    <tr>\n",
       "      <th>11</th>\n",
       "      <td>11</td>\n",
       "      <td>Road Surface</td>\n",
       "    </tr>\n",
       "    <tr>\n",
       "      <th>12</th>\n",
       "      <td>12</td>\n",
       "      <td>Reserved*</td>\n",
       "    </tr>\n",
       "    <tr>\n",
       "      <th>13</th>\n",
       "      <td>13</td>\n",
       "      <td>Wire - Guard (Shield)</td>\n",
       "    </tr>\n",
       "    <tr>\n",
       "      <th>14</th>\n",
       "      <td>14</td>\n",
       "      <td>Wire - Conductor (Phase)</td>\n",
       "    </tr>\n",
       "    <tr>\n",
       "      <th>15</th>\n",
       "      <td>15</td>\n",
       "      <td>Transmission Tower</td>\n",
       "    </tr>\n",
       "    <tr>\n",
       "      <th>16</th>\n",
       "      <td>16</td>\n",
       "      <td>Wire-Structure Connector (Insulator)</td>\n",
       "    </tr>\n",
       "    <tr>\n",
       "      <th>17</th>\n",
       "      <td>17</td>\n",
       "      <td>Bridge Deck</td>\n",
       "    </tr>\n",
       "    <tr>\n",
       "      <th>18</th>\n",
       "      <td>18</td>\n",
       "      <td>High Noise</td>\n",
       "    </tr>\n",
       "    <tr>\n",
       "      <th>19</th>\n",
       "      <td>19-63</td>\n",
       "      <td>Reserved</td>\n",
       "    </tr>\n",
       "    <tr>\n",
       "      <th>20</th>\n",
       "      <td>64-255</td>\n",
       "      <td>User Definable</td>\n",
       "    </tr>\n",
       "  </tbody>\n",
       "</table>\n",
       "</div>"
      ],
      "text/plain": [
       "   Classification value                               Meaning\n",
       "0                     0                      Never classified\n",
       "1                     1                            Unassigned\n",
       "2                     2                                Ground\n",
       "3                     3                        Low Vegetation\n",
       "4                     4                     Medium Vegetation\n",
       "5                     5                       High Vegetation\n",
       "6                     6                              Building\n",
       "7                     7                             Low Point\n",
       "8                     8                             Reserved*\n",
       "9                     9                                 Water\n",
       "10                   10                                  Rail\n",
       "11                   11                          Road Surface\n",
       "12                   12                             Reserved*\n",
       "13                   13                 Wire - Guard (Shield)\n",
       "14                   14              Wire - Conductor (Phase)\n",
       "15                   15                    Transmission Tower\n",
       "16                   16  Wire-Structure Connector (Insulator)\n",
       "17                   17                           Bridge Deck\n",
       "18                   18                            High Noise\n",
       "19                19-63                              Reserved\n",
       "20               64-255                        User Definable"
      ]
     },
     "execution_count": 10,
     "metadata": {},
     "output_type": "execute_result"
    }
   ],
   "source": [
    "import pandas as pd\n",
    "\n",
    "classes_esri = pd.read_html(\"https://desktop.arcgis.com/en/arcmap/10.3/manage-data/las-dataset/lidar-point-classification.htm\")\n",
    "classes_esri[1]\n",
    "\n"
   ]
  },
  {
   "cell_type": "code",
   "execution_count": null,
   "metadata": {},
   "outputs": [],
   "source": []
  }
 ],
 "metadata": {
  "kernelspec": {
   "display_name": "py38lidar",
   "language": "python",
   "name": "python3"
  },
  "language_info": {
   "codemirror_mode": {
    "name": "ipython",
    "version": 3
   },
   "file_extension": ".py",
   "mimetype": "text/x-python",
   "name": "python",
   "nbconvert_exporter": "python",
   "pygments_lexer": "ipython3",
   "version": "3.8.16 (default, Jan 17 2023, 16:42:09) \n[Clang 14.0.6 ]"
  },
  "orig_nbformat": 4,
  "vscode": {
   "interpreter": {
    "hash": "a54151f323acc967be8fb68143945cc7bc10aeedb5b402dbd6b8360bccb746dd"
   }
  }
 },
 "nbformat": 4,
 "nbformat_minor": 2
}
